{
 "cells": [
  {
   "cell_type": "code",
   "execution_count": 1,
   "metadata": {
    "ExecuteTime": {
     "end_time": "2019-08-07T17:38:48.478026Z",
     "start_time": "2019-08-07T17:38:47.239763Z"
    }
   },
   "outputs": [
    {
     "name": "stdout",
     "output_type": "stream",
     "text": [
      "OpenCV 3.4.1\n",
      "Numpy 1.16.2\n",
      "\u001b[1m\u001b[47m\u001b[31m Warning Text! \u001b[0m\n",
      "\u001b[1m\u001b[40m\u001b[37m________________________________________________________________________________________________________________________\u001b[0m\n"
     ]
    }
   ],
   "source": [
    "# init prerequisites\n",
    "%reload_ext autoreload\n",
    "%autoreload 2\n",
    "import cv2 as cv\n",
    "import numpy as np\n",
    "import matplotlib.pyplot as plt\n",
    "import os, re, math, time, random\n",
    "from pprint import pprint\n",
    "\n",
    "import util\n",
    "from util import print_warn, horline\n",
    "\n",
    "print(\"OpenCV {}\".format(cv.__version__))\n",
    "print(\"Numpy {}\".format(np.__version__))\n",
    "\n",
    "print_warn(\"Warning Text!\")\n",
    "horline()"
   ]
  },
  {
   "cell_type": "code",
   "execution_count": 2,
   "metadata": {
    "ExecuteTime": {
     "end_time": "2019-08-07T17:38:48.950445Z",
     "start_time": "2019-08-07T17:38:48.909409Z"
    }
   },
   "outputs": [],
   "source": [
    "def init_camera():\n",
    "    global cap\n",
    "    cap = cv.VideoCapture(0)\n",
    "    print(\"CAP_PROP_FRAME_WIDTH:\", cap.get(cv.CAP_PROP_FRAME_WIDTH))\n",
    "    print(\"CAP_PROP_FRAME_HEIGHT:\", cap.get(cv.CAP_PROP_FRAME_HEIGHT))\n",
    "    cap.set(cv.CAP_PROP_FRAME_WIDTH, 1920)\n",
    "    cap.set(cv.CAP_PROP_FRAME_HEIGHT, 1080)\n",
    "    print(\"CAP_PROP_FRAME_WIDTH:\", cap.get(cv.CAP_PROP_FRAME_WIDTH))\n",
    "    print(\"CAP_PROP_FRAME_HEIGHT:\", cap.get(cv.CAP_PROP_FRAME_HEIGHT))"
   ]
  },
  {
   "cell_type": "code",
   "execution_count": null,
   "metadata": {
    "ExecuteTime": {
     "end_time": "2019-08-07T17:32:55.763088Z",
     "start_time": "2019-08-07T17:32:53.279814Z"
    }
   },
   "outputs": [],
   "source": [
    "# realtime video\n",
    "cv.destroyAllWindows()\n",
    "cv.namedWindow('test', cv.WINDOW_NORMAL)\n",
    "cv.resizeWindow('test', 640, 480)\n",
    "\n",
    "try:\n",
    "    init_camera()\n",
    "    while(True):\n",
    "        ret, frame = cap.read()\n",
    "        assert ret, \"No image read from camera!\"\n",
    "        frame = cv.resize(frame, (int(frame.shape[1]*0.125), int(frame.shape[0]*0.125)))\n",
    "        cv.imshow('test',frame)\n",
    "        k = cv.waitKey(10) & 0xff\n",
    "        if k == 27:\n",
    "            break\n",
    "        \n",
    "finally:\n",
    "    cap.release()\n",
    "    cv.destroyAllWindows()"
   ]
  },
  {
   "cell_type": "code",
   "execution_count": 3,
   "metadata": {
    "ExecuteTime": {
     "end_time": "2019-08-07T17:39:27.429020Z",
     "start_time": "2019-08-07T17:38:52.790949Z"
    }
   },
   "outputs": [
    {
     "name": "stdout",
     "output_type": "stream",
     "text": [
      "CAP_PROP_FRAME_WIDTH: 640.0\n",
      "CAP_PROP_FRAME_HEIGHT: 480.0\n",
      "CAP_PROP_FRAME_WIDTH: 1920.0\n",
      "CAP_PROP_FRAME_HEIGHT: 1080.0\n",
      "(270, 480, 3)\n",
      "saving video to output/realtime.avi\n"
     ]
    }
   ],
   "source": [
    "# realtime video with dense farnebäck flow\n",
    "cv.destroyAllWindows()\n",
    "\n",
    "# initialization\n",
    "clahe = cv.createCLAHE(clipLimit=2.0, tileGridSize=(8,8))\n",
    "cv.destroyAllWindows()\n",
    "#cv.namedWindow('frame', cv.WINDOW_NORMAL)\n",
    "#cv.resizeWindow('frame', 600, 600)\n",
    "#cv.namedWindow('bgr', cv.WINDOW_NORMAL)\n",
    "#cv.resizeWindow('bgr', 600, 600)\n",
    "#cv.namedWindow('mag', cv.WINDOW_NORMAL)\n",
    "#cv.resizeWindow('mag', 600, 600)\n",
    "#cv.namedWindow('ang', cv.WINDOW_NORMAL)\n",
    "#cv.resizeWindow('ang', 600, 600)\n",
    "\n",
    "init_camera()\n",
    "\n",
    "# read input function\n",
    "def get_next(index=None):\n",
    "    ret, frame = cap.read()\n",
    "    assert ret, \"No image read from camera!\"\n",
    "    col = cv.resize(frame, (int(frame.shape[1]*0.125), int(frame.shape[0]*0.125)))\n",
    "    #col = cv.medianBlur(col, 31)\n",
    "    gray = cv.cvtColor(col, cv.COLOR_BGR2GRAY)\n",
    "    #gray = clahe.apply(gray)\n",
    "    return col, gray\n",
    "\n",
    "outputs = dict()\n",
    "def output(file, image):\n",
    "    if len(image.shape) == 2:\n",
    "        image = cv.cvtColor(image, cv.COLOR_GRAY2BGR)\n",
    "    if file not in outputs:\n",
    "        outh,outw,_ = image.shape\n",
    "        print(image.shape)\n",
    "        videopath = file\n",
    "        print(\"saving video to {}\".format(videopath))\n",
    "        outputs[file] = cv.VideoWriter(videopath, cv.VideoWriter_fourcc(*'MJPG'), 30, (outw,outh))    \n",
    "    outputs[file].write(image)\n",
    "\n",
    "def close_output():\n",
    "    for file in outputs:\n",
    "        outputs[file].release()\n",
    "\n",
    "# read first image\n",
    "prev, prev_gray = get_next(0)\n",
    "\n",
    "# prepare output\n",
    "hsv = np.zeros_like(prev)\n",
    "hsv[:,:,1] = 255\n",
    "\n",
    "while(True):\n",
    "    # read next input image\n",
    "    next, next_gray = get_next()\n",
    "    \n",
    "    # calculate optical flow\n",
    "    flow = cv.calcOpticalFlowFarneback(prev_gray,next_gray, None, 0.5, 6, 15, 3, 5, 1.2, 0)\n",
    "    mag, ang = cv.cartToPolar(flow[:,:,0], flow[:,:,1])\n",
    "    hsv[:,:,0] = ang*180/np.pi/2\n",
    "    #hsv[:,:,2] = cv.normalize(mag,None,0,255,cv.NORM_MINMAX)\n",
    "    _, tresh = cv.threshold(mag,8,255,cv.THRESH_TRUNC)\n",
    "    hsv[:,:,2] = tresh * 31    \n",
    "    bgr = cv.cvtColor(hsv,cv.COLOR_HSV2BGR)\n",
    "    #cv.imshow('mag',hsv[:,:,2])\n",
    "    #cv.imshow('ang',hsv[:,:,0])\n",
    "    #cv.imshow('bgr',bgr)\n",
    "    #cv.imshow('frame',next_gray)\n",
    "    \n",
    "    l1 = np.hstack((cv.cvtColor(hsv[:,:,2], cv.COLOR_GRAY2BGR), cv.cvtColor(hsv[:,:,0], cv.COLOR_GRAY2BGR)))\n",
    "    l2 = np.hstack((bgr, cv.cvtColor(next_gray, cv.COLOR_GRAY2BGR)))\n",
    "    stacked = np.vstack((l1, l2))\n",
    "    cv.imshow('output',stacked)\n",
    "    output(\"output/realtime.avi\", stacked)\n",
    "    \n",
    "    \n",
    "    k = cv.waitKey(1) & 0xff\n",
    "    if k == 27:\n",
    "        break\n",
    "        \n",
    "    # update the previous frame\n",
    "    prev = next\n",
    "    prev_gray = next_gray\n",
    "        \n",
    "close_output()\n",
    "cv.destroyAllWindows()"
   ]
  }
 ],
 "metadata": {
  "hide_input": false,
  "kernelspec": {
   "display_name": "Python 3",
   "language": "python",
   "name": "python3"
  },
  "language_info": {
   "codemirror_mode": {
    "name": "ipython",
    "version": 3
   },
   "file_extension": ".py",
   "mimetype": "text/x-python",
   "name": "python",
   "nbconvert_exporter": "python",
   "pygments_lexer": "ipython3",
   "version": "3.7.1"
  },
  "varInspector": {
   "cols": {
    "lenName": 16,
    "lenType": 16,
    "lenVar": 40
   },
   "kernels_config": {
    "python": {
     "delete_cmd_postfix": "",
     "delete_cmd_prefix": "del ",
     "library": "var_list.py",
     "varRefreshCmd": "print(var_dic_list())"
    },
    "r": {
     "delete_cmd_postfix": ") ",
     "delete_cmd_prefix": "rm(",
     "library": "var_list.r",
     "varRefreshCmd": "cat(var_dic_list()) "
    }
   },
   "types_to_exclude": [
    "module",
    "function",
    "builtin_function_or_method",
    "instance",
    "_Feature"
   ],
   "window_display": false
  }
 },
 "nbformat": 4,
 "nbformat_minor": 2
}
