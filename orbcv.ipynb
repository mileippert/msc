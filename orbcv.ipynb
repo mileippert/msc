{
 "cells": [
  {
   "cell_type": "markdown",
   "metadata": {},
   "source": [
    "# ORB Feature Detection\n",
    "\n",
    "https://docs.opencv.org/3.4.1/d1/d89/tutorial_py_orb.html"
   ]
  },
  {
   "cell_type": "code",
   "execution_count": 1,
   "metadata": {
    "ExecuteTime": {
     "end_time": "2019-06-11T13:35:48.341895Z",
     "start_time": "2019-06-11T13:35:45.560548Z"
    },
    "code_folding": []
   },
   "outputs": [
    {
     "name": "stdout",
     "output_type": "stream",
     "text": [
      "OpenCV 3.4.1\n",
      "Numpy 1.16.2\n"
     ]
    }
   ],
   "source": [
    "# init prerequisites\n",
    "%reload_ext autoreload\n",
    "%autoreload 2\n",
    "import cv2 as cv\n",
    "import numpy as np\n",
    "import matplotlib.pyplot as plt\n",
    "import os, re, math, time, random\n",
    "from pprint import pprint\n",
    "\n",
    "import util\n",
    "from util import print_warn, horline\n",
    "\n",
    "print(\"OpenCV {}\".format(cv.__version__))\n",
    "print(\"Numpy {}\".format(np.__version__))"
   ]
  },
  {
   "cell_type": "code",
   "execution_count": 2,
   "metadata": {
    "ExecuteTime": {
     "end_time": "2019-06-11T13:35:48.458999Z",
     "start_time": "2019-06-11T13:35:48.402949Z"
    },
    "code_folding": []
   },
   "outputs": [
    {
     "name": "stdout",
     "output_type": "stream",
     "text": [
      "{'inputfolder': '.\\\\input\\\\reflector_r1\\\\frames',\n",
      " 'lookylooky': [('.\\\\input\\\\reflector_r1\\\\arrow.png', (0, 0, 203, 148)),\n",
      "                ('.\\\\input\\\\reflector_r1\\\\3672.0.png', (0, 120, 300, 300)),\n",
      "                ('.\\\\input\\\\reflector_r1\\\\996.0.png', (550, 450, 200, 200)),\n",
      "                ('.\\\\input\\\\reflector_r1\\\\986.0.png', (742, 202, 413, 327))],\n",
      " 'outputfolder': '.\\\\output\\\\feature\\\\orb'}\n"
     ]
    }
   ],
   "source": [
    "# gasonics production equipment\n",
    "config = dict(\n",
    "    inputfolder=r\".\\input\\reflector_r1\\frames\",\n",
    "    outputfolder=r\".\\output\\feature\\orb\",\n",
    "    lookylooky=[\n",
    "        (r\".\\input\\reflector_r1\\arrow.png\", (0,0,203,148)),\n",
    "        (r\".\\input\\reflector_r1\\3672.0.png\", (0,120,300,300)),\n",
    "        (r\".\\input\\reflector_r1\\996.0.png\", (550,450,200,200)),\n",
    "        (r\".\\input\\reflector_r1\\986.0.png\", (742,202,413,327)),\n",
    "    ],\n",
    ")\n",
    "pprint(config)"
   ]
  },
  {
   "cell_type": "code",
   "execution_count": 3,
   "metadata": {
    "ExecuteTime": {
     "end_time": "2019-06-11T13:35:48.577114Z",
     "start_time": "2019-06-11T13:35:48.519054Z"
    },
    "code_folding": []
   },
   "outputs": [],
   "source": [
    "def save_img(saveimg):\n",
    "    os.makedirs(config[\"outputfolder\"], exist_ok=True)\n",
    "    imgpath = os.path.join(config[\"outputfolder\"], os.path.basename(path))\n",
    "    cv.imwrite(imgpath, saveimg)\n",
    "    print(\"image saved to {}\".format(imgpath))\n",
    "\n",
    "def wait_and_hotkey(saveimg, delay: int=1) -> bool:\n",
    "    k = cv.waitKey(10) & 0xff\n",
    "    if k == 32:\n",
    "        while True:\n",
    "            k = cv.waitKey(10)\n",
    "            if k == 27: return True\n",
    "            elif k == 32: break\n",
    "            elif k == ord('s'):\n",
    "                save_img(saveimg)\n",
    "    elif k == 27: return True\n",
    "    elif k == ord('s'): \n",
    "        save_img(saveimg)\n",
    "    return False"
   ]
  },
  {
   "cell_type": "code",
   "execution_count": 4,
   "metadata": {
    "ExecuteTime": {
     "end_time": "2019-06-11T13:35:48.709979Z",
     "start_time": "2019-06-11T13:35:48.634158Z"
    }
   },
   "outputs": [],
   "source": [
    "# needs a title :)\n",
    "from enum import Enum\n",
    "Method = Enum(\"Method\", \"SIFT ORB\")\n",
    "Matcher = Enum(\"Matcher\", \"BF FLANN\")\n",
    "method = Method.ORB\n",
    "matcher = Matcher.BF\n",
    "\n",
    "# wrapper around method specific data\n",
    "class Storage(object):\n",
    "    img = None\n",
    "    kp = None\n",
    "    des = None\n",
    "    \n",
    "    def __init__(self, img):\n",
    "        self.img = img\n",
    "        \n",
    "    # find keypoints and compute descriptor\n",
    "    def find_features(self):\n",
    "        if method == Method.SIFT:\n",
    "            self.kp, self.des = sift.detectAndCompute(self.img, None)\n",
    "        elif method == Method.ORB:\n",
    "            self.kp = orb.detect(self.img, None)\n",
    "            self.kp, self.des = orb.compute(self.img, self.kp)\n",
    "        else:\n",
    "            raise Exception(\"Unknown Method: {}\".format(method))\n",
    "\n",
    "    # match self image to reference\n",
    "    def match_images(self, reference, drawimg=None):\n",
    "        output_images = []\n",
    "        if matcher == Matcher.BF:\n",
    "            try:\n",
    "                matches = bf.match(reference.des,self.des)\n",
    "                matches = sorted(matches, key = lambda x:x.distance)\n",
    "                #matches = matches[0:int(len(matches) * 0.2)] # percent best matches\n",
    "            except error as e:\n",
    "                print(reference.des, self.des)\n",
    "                raise e\n",
    "        \n",
    "        elif matcher == Matcher.FLANN:\n",
    "            # select good matches as per Lowe's ratio test\n",
    "            matches = flann.knnMatch(reference.des, self.des, k=2)\n",
    "            good = []\n",
    "            for m,n in matches:\n",
    "                if m.distance < 0.75*n.distance:\n",
    "                    good.append(m)\n",
    "            matches = good\n",
    "                \n",
    "        dst = None\n",
    "        #print(\"  found {} matches\".format(len(matches)))\n",
    "        if len(matches) >= 4:\n",
    "            src_pts = np.float32([ reference.kp[m.queryIdx].pt for m in matches ]).reshape(-1,1,2)\n",
    "            dst_pts = np.float32([      self.kp[m.trainIdx].pt for m in matches ]).reshape(-1,1,2)\n",
    "\n",
    "            M, mask = cv.findHomography(src_pts, dst_pts, cv.RHO, 1)\n",
    "            matchesMask = mask.ravel().tolist()\n",
    "\n",
    "            if M is not None:\n",
    "                h,w = feature1.shape\n",
    "                pts = np.float32([[0,0],[0,h-1],[w-1,h-1],[w-1,0]]).reshape(-1,1,2)\n",
    "                dst = cv.perspectiveTransform(pts, M)\n",
    "\n",
    "        if drawimg is not None:\n",
    "            tmp = cv.drawMatches(reference.img,reference.kp,drawimg.copy(),self.kp,matches,None,flags=2)\n",
    "            output_images.append(tmp)\n",
    "            cv.imshow('matches', tmp)\n",
    "            if dst is not None:\n",
    "                tmp = cv.polylines(drawimg.copy(), [np.int32(dst)], True, 255, 3, cv.LINE_AA)\n",
    "                output_images.append(tmp)\n",
    "                cv.imshow('img', tmp)\n",
    "        return output_images\n",
    "            \n",
    "sift = None\n",
    "orb = None\n",
    "def init_method():\n",
    "    global sift, orb\n",
    "    if method == Method.SIFT:\n",
    "        sift = cv.xfeatures2d.SIFT_create()\n",
    "    elif method == Method.ORB:\n",
    "        orb = cv.ORB_create(nfeatures=2000, scaleFactor=1.4, nlevels=16, patchSize=11, edgeThreshold=10)\n",
    "        #orb = cv.ORB_create(nfeatures=1500, scaleFactor=1.8, nlevels=2, patchSize=101, edgeThreshold=5)\n",
    "\n",
    "bf = None\n",
    "flann = None\n",
    "def init_matcher():\n",
    "    global bf, flann\n",
    "    if matcher == Matcher.BF:\n",
    "        bf = cv.BFMatcher(cv.NORM_HAMMING, crossCheck=True)\n",
    "    else:\n",
    "        if method == Method.SIFT:\n",
    "            index_params = dict(algorithm = 1, trees = 5)\n",
    "        elif method == Method.ORB:\n",
    "            index_params = dict(algorithm = 6, table_number = 6, key_size = 12, multi_probe_level = 1)\n",
    "        search_params = dict(checks = 100)\n",
    "        flann = cv.FlannBasedMatcher(index_params, search_params)\n",
    "        \n",
    "init_method()"
   ]
  },
  {
   "cell_type": "code",
   "execution_count": 5,
   "metadata": {
    "ExecuteTime": {
     "end_time": "2019-06-11T13:35:57.131130Z",
     "start_time": "2019-06-11T13:35:56.674371Z"
    },
    "code_folding": []
   },
   "outputs": [
    {
     "name": "stdout",
     "output_type": "stream",
     "text": [
      "loading ('.\\\\input\\\\reflector_r1\\\\986.0.png', (742, 202, 413, 327)) as search image\n"
     ]
    },
    {
     "data": {
      "image/png": "[encoded data removed]",
      "text/plain": [
       "<Figure size 432x288 with 1 Axes>"
      ]
     },
     "metadata": {
      "needs_background": "light"
     },
     "output_type": "display_data"
    },
    {
     "data": {
      "image/png": "[encoded data removed]",
      "text/plain": [
       "<Figure size 432x288 with 1 Axes>"
      ]
     },
     "metadata": {
      "needs_background": "light"
     },
     "output_type": "display_data"
    },
    {
     "name": "stdout",
     "output_type": "stream",
     "text": [
      "  found 134 keypoints in search image\n"
     ]
    },
    {
     "data": {
      "image/png": "[encoded data removed]",
      "text/plain": [
       "<Figure size 432x288 with 1 Axes>"
      ]
     },
     "metadata": {
      "needs_background": "light"
     },
     "output_type": "display_data"
    }
   ],
   "source": [
    "# read input image and store for future use\n",
    "input_image_index = 3\n",
    "\n",
    "print(\"loading {} as search image\".format(config[\"lookylooky\"][input_image_index]))\n",
    "feature1 = cv.imread(config[\"lookylooky\"][input_image_index][0], cv.IMREAD_GRAYSCALE)\n",
    "x,y,w,h = config[\"lookylooky\"][input_image_index][1]\n",
    "plt.imshow(feature1); plt.show()\n",
    "\n",
    "# crop\n",
    "feature1 = feature1[y-int(h/2):y+int(h/2), x-int(w/2):x+int(w/2)]\n",
    "plt.imshow(feature1); plt.show()\n",
    "    \n",
    "search = Storage(feature1)\n",
    "search.find_features()\n",
    "\n",
    "print(\"  found {} keypoints in search image\".format(len(search.kp)))\n",
    "tmp = cv.drawKeypoints(search.img, search.kp, None, color=(0,255,0), flags=4)\n",
    "plt.imshow(tmp); plt.show()"
   ]
  },
  {
   "cell_type": "code",
   "execution_count": 6,
   "metadata": {
    "ExecuteTime": {
     "end_time": "2019-06-11T13:37:23.828878Z",
     "start_time": "2019-06-11T13:36:00.773445Z"
    },
    "scrolled": false
   },
   "outputs": [
    {
     "name": "stdout",
     "output_type": "stream",
     "text": [
      ".\\input\\reflector_r1\\frames contains 795 images\n",
      "image saved to .\\output\\feature\\orb\\1013.0.png\n",
      "image saved to .\\output\\feature\\orb\\1044.0.png\n",
      "image saved to .\\output\\feature\\orb\\1561.0.png\n"
     ]
    }
   ],
   "source": [
    "# collect input files\n",
    "paths, labels, label_mapping = util.recursive_collect(config[\"inputfolder\"])\n",
    "input_images = []\n",
    "prev = None\n",
    "\n",
    "print(\"{} contains {} images\".format(config[\"inputfolder\"], len(paths)))\n",
    "shuffle = list(zip(paths, labels))\n",
    "shuffle = sorted(shuffle, key = lambda x: int(x[0].split(\"\\\\\")[-1].split(\".\")[0]))\n",
    "paths, labels = zip(*shuffle)\n",
    "\n",
    "# init image preprocessing\n",
    "clahe = cv.createCLAHE(clipLimit=2.0, tileGridSize=(8,8))\n",
    "\n",
    "\n",
    "# config matcher\n",
    "#  sift\n",
    "index_params = dict(algorithm = 1, trees = 5)\n",
    "#  orb\n",
    "index_params = dict(algorithm = 6, table_number = 6, key_size = 12, multi_probe_level = 1)\n",
    "search_params = dict(checks = 100)\n",
    "\n",
    "# init matcher\n",
    "init_matcher()\n",
    "\n",
    "# prints information about mouse drags in window\n",
    "area_temp_x = None\n",
    "area_temp_y = None\n",
    "def area_inspector(event, x, y, flags, param):\n",
    "    global area_temp_x, area_temp_y\n",
    "    if event == cv.EVENT_LBUTTONDOWN:\n",
    "        area_temp_x = x\n",
    "        area_temp_y = y\n",
    "    if event == cv.EVENT_LBUTTONUP:\n",
    "        ar = (area_temp_x, area_temp_y, x, y)\n",
    "        print(\"[{},{}]\".format(x,y),\"[{},{}]\".format(area_temp_x,area_temp_y))\n",
    "\n",
    "# initialization of opencv windows\n",
    "def init_window(title):\n",
    "    cv.namedWindow(title, cv.WINDOW_NORMAL)\n",
    "    cv.resizeWindow(title, 600, 500)\n",
    "    cv.setMouseCallback(title, area_inspector)\n",
    "\n",
    "cv.destroyAllWindows()\n",
    "init_window('img')\n",
    "init_window('gray')\n",
    "#init_window('matches')\n",
    "init_window('keypoints')\n",
    "\n",
    "out = None\n",
    "for i, path, label in zip(range(len(paths)), paths, labels):\n",
    "    ## read input image\n",
    "    img = cv.imread(path, cv.IMREAD_COLOR)\n",
    "    \n",
    "    #img = cv.resize(img, (int(img.shape[1]*0.5), int(img.shape[0]*0.5)))\n",
    "    img = cv.medianBlur(img, 11)\n",
    "    \n",
    "    ## warp image to change perspective on image plane\n",
    "    pts1 = np.float32([[126,292],[464,404],[392,580],[ 16,450]])\n",
    "    pts2 = np.float32([[200,200],[650,200],[650,400],[200,400]])\n",
    "    M = cv.getPerspectiveTransform(pts1,pts2)\n",
    "    img = cv.warpPerspective(img,M,(img.shape[1], img.shape[0]), borderMode=cv.BORDER_CONSTANT)\n",
    "\n",
    "    gray = cv.cvtColor(img,cv.COLOR_BGR2GRAY)\n",
    "\n",
    "    #gray = clahe.apply(gray)\n",
    "    #gray = cv.equalizeHist(gray)\n",
    "    _, gray = cv.threshold(gray,230,255,cv.THRESH_BINARY)\n",
    "    \n",
    "    ## display and store for next iteration\n",
    "    cv.imshow('gray', gray)\n",
    "    prev = gray\n",
    "    save = gray\n",
    "    \n",
    "    ## find features and descriptors\n",
    "    current = Storage(gray)\n",
    "    current.find_features()\n",
    "\n",
    "    imgs = current.match_images(search, drawimg=img)\n",
    "    save = imgs[0]\n",
    "    \n",
    "    ## display keypoint location\n",
    "    img2 = cv.drawKeypoints(img, current.kp, None, color=(0,255,0), flags=4)\n",
    "    cv.imshow('keypoints', img2)\n",
    "    \n",
    "    ## measure time\n",
    "    #start_time = time.perf_counter()\n",
    "    #end_time = time.perf_counter()\n",
    "    #print(\"  computation for {} took {:.2f}ms\".format(path, (end_time - start_time)*1000.0))\n",
    "    \n",
    "    if wait_and_hotkey(gray, delay=1): break\n",
    "    \n",
    "if out is not None:\n",
    "    out.release()\n",
    "cv.destroyAllWindows()"
   ]
  },
  {
   "cell_type": "code",
   "execution_count": null,
   "metadata": {},
   "outputs": [],
   "source": [
    "    # write video\n",
    "    #if out is None:\n",
    "    #    outh,outw,_ = bgr.shape\n",
    "    #    out = cv.VideoWriter(os.path.join(config[\"outputfolder\"], \"orb5.avi\"), cv.VideoWriter_fourcc(*'MJPG'), 10, (outw,outh))\n",
    "    #vidimg = cv.addWeighted(bgr, 0.5, img, 0.5, 0)\n",
    "    #out.write(vidimg)"
   ]
  },
  {
   "cell_type": "code",
   "execution_count": null,
   "metadata": {
    "ExecuteTime": {
     "end_time": "2019-06-07T13:31:46.057989Z",
     "start_time": "2019-06-07T13:31:45.987919Z"
    }
   },
   "outputs": [],
   "source": [
    "if out is not None:\n",
    "    out.release()\n",
    "cv.destroyAllWindows()"
   ]
  }
 ],
 "metadata": {
  "celltoolbar": "Initialization Cell",
  "hide_input": false,
  "kernelspec": {
   "display_name": "Python 3",
   "language": "python",
   "name": "python3"
  },
  "language_info": {
   "codemirror_mode": {
    "name": "ipython",
    "version": 3
   },
   "file_extension": ".py",
   "mimetype": "text/x-python",
   "name": "python",
   "nbconvert_exporter": "python",
   "pygments_lexer": "ipython3",
   "version": "3.7.1"
  },
  "varInspector": {
   "cols": {
    "lenName": 16,
    "lenType": 16,
    "lenVar": 40
   },
   "kernels_config": {
    "python": {
     "delete_cmd_postfix": "",
     "delete_cmd_prefix": "del ",
     "library": "var_list.py",
     "varRefreshCmd": "print(var_dic_list())"
    },
    "r": {
     "delete_cmd_postfix": ") ",
     "delete_cmd_prefix": "rm(",
     "library": "var_list.r",
     "varRefreshCmd": "cat(var_dic_list()) "
    }
   },
   "types_to_exclude": [
    "module",
    "function",
    "builtin_function_or_method",
    "instance",
    "_Feature"
   ],
   "window_display": false
  }
 },
 "nbformat": 4,
 "nbformat_minor": 2
}
