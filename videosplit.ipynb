{
 "cells": [
  {
   "cell_type": "code",
   "execution_count": 2,
   "metadata": {
    "ExecuteTime": {
     "end_time": "2019-03-15T16:16:25.878029Z",
     "start_time": "2019-03-15T16:16:24.646945Z"
    }
   },
   "outputs": [
    {
     "name": "stdout",
     "output_type": "stream",
     "text": [
      "OpenCV 3.4.1\n",
      "Numpy 1.14.3\n"
     ]
    }
   ],
   "source": [
    "import cv2 as cv\n",
    "import numpy as np\n",
    "import matplotlib.pyplot as plt\n",
    "import os, re, math, time\n",
    "import progressbar\n",
    "\n",
    "from pprint import pprint\n",
    "\n",
    "print(\"OpenCV {}\".format(cv.__version__))\n",
    "print(\"Numpy {}\".format(np.__version__))\n",
    "\n",
    "sift = cv.xfeatures2d.SIFT_create()"
   ]
  },
  {
   "cell_type": "code",
   "execution_count": 3,
   "metadata": {
    "ExecuteTime": {
     "end_time": "2019-03-15T16:16:26.725811Z",
     "start_time": "2019-03-15T16:16:26.722818Z"
    }
   },
   "outputs": [
    {
     "name": "stdout",
     "output_type": "stream",
     "text": [
      "{'videofile': './input/reflector_r1/ReflectorVideo 2.wmv', 'outputfolder': './input/reflector_r1'}\n"
     ]
    }
   ],
   "source": [
    "config = dict(\n",
    "    videofile=\"./input/reflector_r1/ReflectorVideo 2.wmv\",\n",
    "    outputfolder=\"./input/reflector_r1\"\n",
    ")\n",
    "print(config)"
   ]
  },
  {
   "cell_type": "code",
   "execution_count": 7,
   "metadata": {
    "ExecuteTime": {
     "end_time": "2019-03-15T16:20:42.588642Z",
     "start_time": "2019-03-15T16:18:08.378018Z"
    }
   },
   "outputs": [
    {
     "name": "stderr",
     "output_type": "stream",
     "text": [
      "100% (9999.0 of 9999.0) |################| Elapsed Time: 0:02:34 Time:  0:02:34\n"
     ]
    }
   ],
   "source": [
    "cap = cv.VideoCapture(config[\"videofile\"])\n",
    "\n",
    "# done: 294.0 - 320.0\n",
    "\n",
    "\n",
    "starttime_min = 0\n",
    "starttime_f = starttime_min * 60 * cap.get(cv.CAP_PROP_FPS)\n",
    "\n",
    "endtime_min = 9999\n",
    "endtime_f = endtime_min * 60 * cap.get(cv.CAP_PROP_FPS)\n",
    "\n",
    "totallength_min = cap.get(cv.CAP_PROP_FRAME_COUNT) / cap.get(cv.CAP_PROP_FPS) / 60\n",
    "cap.set(cv.CAP_PROP_POS_FRAMES, starttime_f)\n",
    "\n",
    "with progressbar.ProgressBar(max_value=float(endtime_min - starttime_min)) as bar:\n",
    "    currenttime_min = cap.get(cv.CAP_PROP_POS_FRAMES) / cap.get(cv.CAP_PROP_FPS) / 60\n",
    "    \n",
    "    while(cap.isOpened() and currenttime_min < endtime_min):\n",
    "        currenttime_min = cap.get(cv.CAP_PROP_POS_FRAMES) / cap.get(cv.CAP_PROP_FPS) / 60\n",
    "        bar.update(math.floor((currenttime_min - starttime_min) * 100)/100)\n",
    "        ret, frame = cap.read()\n",
    "        if not ret:\n",
    "            break\n",
    "        gray = cv.cvtColor(frame, cv.COLOR_BGR2GRAY)\n",
    "        cv.imshow(\"frame\", gray)\n",
    "        cv.imwrite(os.path.join(config[\"outputfolder\"], \"{}.png\".format(cap.get(cv.CAP_PROP_POS_FRAMES))), gray)\n",
    "        if cv.waitKey(1) & 0xFF == ord(\"q\"):\n",
    "            break\n",
    "\n",
    "cap.release()\n",
    "cv.destroyAllWindows()"
   ]
  },
  {
   "cell_type": "code",
   "execution_count": null,
   "metadata": {
    "ExecuteTime": {
     "end_time": "2019-02-12T19:01:34.034484Z",
     "start_time": "2019-02-12T19:01:34.024474Z"
    }
   },
   "outputs": [],
   "source": [
    "cap.release()\n",
    "cv2.destroyAllWindows()"
   ]
  }
 ],
 "metadata": {
  "hide_input": false,
  "kernelspec": {
   "display_name": "Python 3",
   "language": "python",
   "name": "python3"
  },
  "language_info": {
   "codemirror_mode": {
    "name": "ipython",
    "version": 3
   },
   "file_extension": ".py",
   "mimetype": "text/x-python",
   "name": "python",
   "nbconvert_exporter": "python",
   "pygments_lexer": "ipython3",
   "version": "3.7.1"
  },
  "varInspector": {
   "cols": {
    "lenName": 16,
    "lenType": 16,
    "lenVar": 40
   },
   "kernels_config": {
    "python": {
     "delete_cmd_postfix": "",
     "delete_cmd_prefix": "del ",
     "library": "var_list.py",
     "varRefreshCmd": "print(var_dic_list())"
    },
    "r": {
     "delete_cmd_postfix": ") ",
     "delete_cmd_prefix": "rm(",
     "library": "var_list.r",
     "varRefreshCmd": "cat(var_dic_list()) "
    }
   },
   "types_to_exclude": [
    "module",
    "function",
    "builtin_function_or_method",
    "instance",
    "_Feature"
   ],
   "window_display": false
  }
 },
 "nbformat": 4,
 "nbformat_minor": 2
}
